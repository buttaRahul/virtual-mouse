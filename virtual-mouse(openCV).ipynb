{
 "cells": [
  {
   "cell_type": "code",
   "execution_count": 1,
   "id": "62367226",
   "metadata": {},
   "outputs": [],
   "source": [
    "import mediapipe as mp\n",
    "import cv2\n",
    "import numpy as np\n",
    "from mediapipe.framework.formats import landmark_pb2\n",
    "import time\n",
    "import win32api\n",
    "import pyautogui\n",
    " "
   ]
  },
  {
   "cell_type": "code",
   "execution_count": 2,
   "id": "e48985fc",
   "metadata": {},
   "outputs": [],
   "source": [
    "from math import sqrt\n",
    "mpDrawing = mp.solutions.drawing_utils\n",
    "mpHands = mp.solutions.hands\n",
    "click=0"
   ]
  },
  {
   "cell_type": "code",
   "execution_count": 3,
   "id": "f64d855b",
   "metadata": {},
   "outputs": [],
   "source": [
    "video = cv2.VideoCapture(0)"
   ]
  },
  {
   "cell_type": "code",
   "execution_count": null,
   "id": "faa5dd18",
   "metadata": {},
   "outputs": [],
   "source": [
    "with mpHands.Hands(min_detection_confidence=0.1, min_tracking_confidence=0.7) as hands: \n",
    "    while video.isOpened():\n",
    "        _, frame = video.read()\n",
    "        image = cv2.cvtColor(frame, cv2.COLOR_BGR2RGB)\n",
    "         \n",
    "        image = cv2.flip(image, 1)\n",
    " \n",
    "        imageHeight, imageWidth, _ = image.shape\n",
    " \n",
    "        results = hands.process(image)\n",
    "   \n",
    " \n",
    "        image = cv2.cvtColor(image, cv2.COLOR_RGB2BGR)\n",
    "  \n",
    "        if results.multi_hand_landmarks:\n",
    "            for num, hand in enumerate(results.multi_hand_landmarks):\n",
    "                mpDrawing.draw_landmarks(image, hand, mpHands.HAND_CONNECTIONS, \n",
    "                                        mpDrawing.DrawingSpec(color=(250, 44, 250), thickness=2, circle_radius=2),\n",
    "                                         )\n",
    " \n",
    "        if results.multi_hand_landmarks != None:\n",
    "          for handLandmarks in results.multi_hand_landmarks:\n",
    "            for point in mpHands.HandLandmark:\n",
    " \n",
    "    \n",
    "                normalizedLandmark = handLandmarks.landmark[point]\n",
    "                pixelCoordinatesLandmark = mpDrawing._normalized_to_pixel_coordinates(normalizedLandmark.x, normalizedLandmark.y, imageWidth, imageHeight)\n",
    "    \n",
    "                point=str(point)\n",
    " \n",
    "                if point=='HandLandmark.INDEX_FINGER_TIP':\n",
    "                 try:\n",
    "                    indexfingertip_x=pixelCoordinatesLandmark[0]\n",
    "                    indexfingertip_y=pixelCoordinatesLandmark[1]\n",
    "                    win32api.SetCursorPos((indexfingertip_x*4,indexfingertip_y*5))\n",
    " \n",
    "                 except:\n",
    "                    pass\n",
    " \n",
    "                elif point=='HandLandmark.THUMB_TIP':\n",
    "                 try:\n",
    "                    thumbfingertip_x=pixelCoordinatesLandmark[0]\n",
    "                    thumbfingertip_y=pixelCoordinatesLandmark[1]\n",
    "                    #print(\"thumb\",thumbfingertip_x)\n",
    " \n",
    "                 except:\n",
    "                    pass\n",
    " \n",
    "                try:\n",
    "                    Distance_x= sqrt((indexfingertip_x-thumbfingertip_x)**2 + (indexfingertip_x-thumbfingertip_x)**2)\n",
    "                    Distance_y= sqrt((indexfingertip_y-thumbfingertip_y)**2 + (indexfingertip_y-thumbfingertip_y)**2)\n",
    "                    if Distance_x<5 or Distance_x<-5:\n",
    "                        if Distance_y<5 or Distance_y<-5:\n",
    "                            click=click+1\n",
    "                            if click%5==0:\n",
    "                                print(\"single click\")\n",
    "                                pyautogui.click()                            \n",
    " \n",
    "                except:\n",
    "                    pass\n",
    " \n",
    "        cv2.imshow('Hand Tracking', image)\n",
    " \n",
    "        if cv2.waitKey(10) & 0xFF == ord('q'):\n",
    "            break\n",
    " \n",
    "video.release()"
   ]
  },
  {
   "cell_type": "code",
   "execution_count": null,
   "id": "d3fe9727",
   "metadata": {},
   "outputs": [],
   "source": []
  },
  {
   "cell_type": "code",
   "execution_count": null,
   "id": "b1cb8ad5",
   "metadata": {},
   "outputs": [],
   "source": []
  }
 ],
 "metadata": {
  "kernelspec": {
   "display_name": "Python 3 (ipykernel)",
   "language": "python",
   "name": "python3"
  },
  "language_info": {
   "codemirror_mode": {
    "name": "ipython",
    "version": 3
   },
   "file_extension": ".py",
   "mimetype": "text/x-python",
   "name": "python",
   "nbconvert_exporter": "python",
   "pygments_lexer": "ipython3",
   "version": "3.9.7"
  }
 },
 "nbformat": 4,
 "nbformat_minor": 5
}
